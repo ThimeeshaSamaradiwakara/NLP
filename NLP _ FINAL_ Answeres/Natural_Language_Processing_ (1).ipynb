{
  "cells": [
    {
      "cell_type": "markdown",
      "source": [
        "# Task 1:  Introduction to NLP and Data Collection\n",
        "\n",
        "**1.1 Introduction to Natural Language Processing (NLP)**\n",
        "\n",
        "Natural Language Processing (NLP) is a subfield of artificial intelligence (AI) that enables computers to understand, interpret, and respond to human language in a meaningful way. It combines computational linguistics with machine learning to process and analyze large amounts of natural language data. The significance of NLP lies in its ability to bridge the gap between human communication and machine understanding, making it a cornerstone in modern AI applications.\n",
        "NLP powers numerous real-world applications, including chatbots, sentiment analysis, language translation, and search engines. For instance, virtual assistants like Siri and Alexa rely on NLP for understanding user queries, while businesses leverage sentiment analysis to gauge customer opinions. Additionally, NLP is instrumental in healthcare for analyzing medical records and in legal industries for processing contracts.\n",
        "\n",
        "**1.2\t Data Source Description**\n",
        "\n",
        "For this project, text data was collected using Python, simulating a dataset obtained from the Twitter platform. The dataset comprises 200 tweets related to various technology advancements and innovations. The simulated data reflects topics like AI advancements, 5G networks, quantum computing, cybersecurity, IoT devices, and robotics. Each record includes details such as the tweet creation date, username, content, number of likes, retweets, and user location. This diverse dataset provides a robust foundation for NLP analysis, focusing on real-world technological discussions.\n",
        "\n",
        "**1.3 The source's structure is as follows:**\n",
        "\n",
        "•\tcreated_at: Timestamp of when the tweet was posted.\n",
        "\n",
        "•\tuser: Twitter username of the account that posted the tweet.\n",
        "\n",
        "•\ttext: Full content of the tweet.\n",
        "\n",
        "•\tlikes: Count of likes received.\n",
        "\n",
        "•\tretweets: Count of retweets.\n",
        "\n",
        "•\tlocation: Location of the user (if available).\n",
        "\n",
        "This dataset serves as a foundation for analyzing public sentiment and trends in technology.\n",
        "\n",
        "\n"
      ],
      "metadata": {
        "id": "8jTL01CebqzE"
      },
      "id": "8jTL01CebqzE"
    },
    {
      "cell_type": "markdown",
      "source": [
        "# Task 2: Text Preprocessing and Tokenization"
      ],
      "metadata": {
        "id": "8ZCAlBDDTcg1"
      },
      "id": "8ZCAlBDDTcg1"
    },
    {
      "cell_type": "code",
      "execution_count": 1,
      "id": "edb39749-79dc-402c-9c4c-1203fa449238",
      "metadata": {
        "id": "edb39749-79dc-402c-9c4c-1203fa449238"
      },
      "outputs": [],
      "source": [
        "import pandas as pd\n",
        "import re\n",
        "import nltk\n",
        "from nltk.corpus import stopwords\n",
        "from nltk.tokenize import word_tokenize\n",
        "from nltk.stem import WordNetLemmatizer\n",
        "from sklearn.feature_extraction.text import CountVectorizer"
      ]
    },
    {
      "cell_type": "code",
      "execution_count": 2,
      "id": "e6b288f6-66a7-4853-8141-3a6c6f8ca732",
      "metadata": {
        "id": "e6b288f6-66a7-4853-8141-3a6c6f8ca732",
        "outputId": "0fc25640-d125-415b-ee45-61e98c6a92a0",
        "colab": {
          "base_uri": "https://localhost:8080/"
        }
      },
      "outputs": [
        {
          "output_type": "execute_result",
          "data": {
            "text/plain": [
              "True"
            ]
          },
          "metadata": {},
          "execution_count": 2
        }
      ],
      "source": [
        "# Ensure you have the necessary NLTK packages\n",
        "nltk.download(\"stopwords\", quiet=True)\n",
        "nltk.download(\"punkt\", quiet=True)\n",
        "nltk.download(\"wordnet\", quiet=True)"
      ]
    },
    {
      "cell_type": "code",
      "execution_count": 3,
      "id": "ac9d1175-f309-4d2c-8b4b-49ec6eaf6dc3",
      "metadata": {
        "id": "ac9d1175-f309-4d2c-8b4b-49ec6eaf6dc3"
      },
      "outputs": [],
      "source": [
        "# Load the dataset\n",
        "dataset = pd.read_csv(\"/content/twitter_data_keywords_20241216112002.csv\")\n"
      ]
    },
    {
      "cell_type": "code",
      "execution_count": 4,
      "id": "137bac1b-2a24-46e0-be5e-d2c1157934e6",
      "metadata": {
        "id": "137bac1b-2a24-46e0-be5e-d2c1157934e6",
        "outputId": "943d6b93-2e8a-43be-ab06-dc86a1792d3a",
        "colab": {
          "base_uri": "https://localhost:8080/"
        }
      },
      "outputs": [
        {
          "output_type": "stream",
          "name": "stdout",
          "text": [
            "Original Dataset:\n",
            "            created_at               user  \\\n",
            "0  2023-02-05 09:34:46  cybersecurity_pro   \n",
            "1  2023-01-15 19:37:08        tech_trends   \n",
            "2  2022-10-02 17:01:22     innovation_hub   \n",
            "3  2024-05-11 04:24:27          tech_guru   \n",
            "4  2022-09-03 15:54:18        tech_trends   \n",
            "\n",
            "                                                text  likes  retweets  \\\n",
            "0  Artificial intelligence is driving the tech wo...    425       136   \n",
            "1  Cybersecurity remains the top priority for org...     92        60   \n",
            "2  Cloud computing ensures scalability for busine...    218       172   \n",
            "3  Quantum algorithms are the next big leap for t...    454       185   \n",
            "4  IoT is revolutionizing smart home devices worl...    435        70   \n",
            "\n",
            "            location  \n",
            "0  Sydney, Australia  \n",
            "1       Tokyo, Japan  \n",
            "2      Paris, France  \n",
            "3             Remote  \n",
            "4  Sydney, Australia  \n"
          ]
        }
      ],
      "source": [
        "# Display the first few rows of the dataset\n",
        "print(\"Original Dataset:\")\n",
        "print(dataset.head())"
      ]
    },
    {
      "cell_type": "code",
      "execution_count": 5,
      "id": "37c0be85-8b9a-4d94-9f86-902b92a8074d",
      "metadata": {
        "id": "37c0be85-8b9a-4d94-9f86-902b92a8074d"
      },
      "outputs": [],
      "source": [
        "# Preprocessing function\n",
        "def preprocess_text(text):\n",
        "    \"\"\"\n",
        "    Preprocess the text by removing special characters, stop words, performing lemmatization,\n",
        "    and tokenizing.\n",
        "    \"\"\"\n",
        "    if not text:  # Check for empty text\n",
        "        return []\n",
        "\n",
        "    # Convert to lowercase\n",
        "    text = text.lower()\n",
        "\n",
        "    # Remove special characters and punctuation\n",
        "    text = re.sub(r\"[^a-zA-Z0-9\\s]\", \"\", text)\n",
        "\n",
        "    # Tokenize the text\n",
        "    tokens = word_tokenize(text)\n",
        "\n",
        "    # Remove stop words\n",
        "    stop_words = set(stopwords.words(\"english\"))\n",
        "    filtered_tokens = [word for word in tokens if word not in stop_words]\n",
        "\n",
        "    # Perform lemmatization\n",
        "    lemmatizer = WordNetLemmatizer()\n",
        "    lemmatized_tokens = [lemmatizer.lemmatize(word) for word in filtered_tokens]\n",
        "\n",
        "    return lemmatized_tokens\n",
        "\n"
      ]
    },
    {
      "cell_type": "code",
      "execution_count": 6,
      "id": "e866e646-dfa9-43e0-bdbb-988f50598302",
      "metadata": {
        "id": "e866e646-dfa9-43e0-bdbb-988f50598302",
        "outputId": "33850e90-dd04-462b-ad91-ffa7501bba73",
        "colab": {
          "base_uri": "https://localhost:8080/"
        }
      },
      "outputs": [
        {
          "output_type": "stream",
          "name": "stderr",
          "text": [
            "[nltk_data] Downloading package punkt_tab to /root/nltk_data...\n",
            "[nltk_data]   Unzipping tokenizers/punkt_tab.zip.\n"
          ]
        },
        {
          "output_type": "execute_result",
          "data": {
            "text/plain": [
              "True"
            ]
          },
          "metadata": {},
          "execution_count": 6
        }
      ],
      "source": [
        "import nltk\n",
        "nltk.download('punkt_tab')"
      ]
    },
    {
      "cell_type": "code",
      "execution_count": 7,
      "id": "56978924-79bb-45fc-81d2-f0e813e0331c",
      "metadata": {
        "id": "56978924-79bb-45fc-81d2-f0e813e0331c"
      },
      "outputs": [],
      "source": [
        "# Apply preprocessing to the \"text\" column\n",
        "dataset[\"processed_text\"] = dataset[\"text\"].apply(preprocess_text)\n"
      ]
    },
    {
      "cell_type": "code",
      "execution_count": 8,
      "id": "5581e54f-fc93-4b1f-8d82-e6e7f30955e5",
      "metadata": {
        "id": "5581e54f-fc93-4b1f-8d82-e6e7f30955e5"
      },
      "outputs": [],
      "source": [
        "# Create n-grams\n",
        "def create_ngrams(tokens, n=2):\n",
        "    \"\"\"Generate n-grams from tokens.\"\"\"\n",
        "    ngrams = list(zip(*[tokens[i:] for i in range(n)]))\n",
        "    return [\" \".join(ngram) for ngram in ngrams]\n"
      ]
    },
    {
      "cell_type": "code",
      "execution_count": 9,
      "id": "b0a5fc04-3930-48eb-bf0d-e326a4fc4fac",
      "metadata": {
        "id": "b0a5fc04-3930-48eb-bf0d-e326a4fc4fac"
      },
      "outputs": [],
      "source": [
        "# Example: Generate bigrams for each processed text\n",
        "dataset[\"bigrams\"] = dataset[\"processed_text\"].apply(lambda x: create_ngrams(x, n=2))\n"
      ]
    },
    {
      "cell_type": "code",
      "execution_count": 10,
      "id": "1d3d8dd2-7903-4da6-9e94-77ec8a66f1c6",
      "metadata": {
        "id": "1d3d8dd2-7903-4da6-9e94-77ec8a66f1c6"
      },
      "outputs": [],
      "source": [
        "# Convert processed tokens back to string for easier readability\n",
        "dataset[\"processed_text_str\"] = dataset[\"processed_text\"].apply(lambda x: ' '.join(x))\n"
      ]
    },
    {
      "cell_type": "code",
      "execution_count": 11,
      "id": "962ebc6e-bda8-4b67-8b74-ff7a9c3c1214",
      "metadata": {
        "id": "962ebc6e-bda8-4b67-8b74-ff7a9c3c1214"
      },
      "outputs": [],
      "source": [
        "# Save the preprocessed dataset\n",
        "dataset.to_csv(\"preprocessed_twitter_data.csv\", index=False)\n"
      ]
    },
    {
      "cell_type": "code",
      "execution_count": 12,
      "id": "a296e991-7d0e-4315-9146-06948d61d32e",
      "metadata": {
        "id": "a296e991-7d0e-4315-9146-06948d61d32e",
        "outputId": "ffbc41a9-1d30-4b2e-a379-2ed29c9c901b",
        "colab": {
          "base_uri": "https://localhost:8080/"
        }
      },
      "outputs": [
        {
          "output_type": "stream",
          "name": "stdout",
          "text": [
            "\n",
            "Preprocessed Dataset:\n",
            "            created_at               user  \\\n",
            "0  2023-02-05 09:34:46  cybersecurity_pro   \n",
            "1  2023-01-15 19:37:08        tech_trends   \n",
            "2  2022-10-02 17:01:22     innovation_hub   \n",
            "3  2024-05-11 04:24:27          tech_guru   \n",
            "4  2022-09-03 15:54:18        tech_trends   \n",
            "\n",
            "                                                text  likes  retweets  \\\n",
            "0  Artificial intelligence is driving the tech wo...    425       136   \n",
            "1  Cybersecurity remains the top priority for org...     92        60   \n",
            "2  Cloud computing ensures scalability for busine...    218       172   \n",
            "3  Quantum algorithms are the next big leap for t...    454       185   \n",
            "4  IoT is revolutionizing smart home devices worl...    435        70   \n",
            "\n",
            "            location                                     processed_text  \\\n",
            "0  Sydney, Australia  [artificial, intelligence, driving, tech, worl...   \n",
            "1       Tokyo, Japan  [cybersecurity, remains, top, priority, organi...   \n",
            "2      Paris, France  [cloud, computing, ensures, scalability, busin...   \n",
            "3             Remote        [quantum, algorithm, next, big, leap, tech]   \n",
            "4  Sydney, Australia  [iot, revolutionizing, smart, home, device, wo...   \n",
            "\n",
            "                                             bigrams  \\\n",
            "0  [artificial intelligence, intelligence driving...   \n",
            "1  [cybersecurity remains, remains top, top prior...   \n",
            "2  [cloud computing, computing ensures, ensures s...   \n",
            "3  [quantum algorithm, algorithm next, next big, ...   \n",
            "4  [iot revolutionizing, revolutionizing smart, s...   \n",
            "\n",
            "                                  processed_text_str  \n",
            "0  artificial intelligence driving tech world for...  \n",
            "1    cybersecurity remains top priority organization  \n",
            "2  cloud computing ensures scalability business g...  \n",
            "3               quantum algorithm next big leap tech  \n",
            "4    iot revolutionizing smart home device worldwide  \n"
          ]
        }
      ],
      "source": [
        "# Display the preprocessed data\n",
        "print(\"\\nPreprocessed Dataset:\")\n",
        "print(dataset.head())\n"
      ]
    },
    {
      "cell_type": "code",
      "execution_count": 13,
      "id": "ab34a205-0b0e-41bf-b637-08aafb3a1c22",
      "metadata": {
        "id": "ab34a205-0b0e-41bf-b637-08aafb3a1c22",
        "outputId": "78e2a69b-e8f8-47f0-bd17-2dc96103c6f0",
        "colab": {
          "base_uri": "https://localhost:8080/"
        }
      },
      "outputs": [
        {
          "output_type": "stream",
          "name": "stdout",
          "text": [
            "\n",
            "Summary of Preprocessing Steps:\n",
            "\n",
            "1. **Stopword Removal**: Common words like \"the\", \"is\", \"and\" were removed to reduce noise in the data.\n",
            "2. **Lemmatization**: Words were reduced to their base form, e.g., \"running\" to \"run\".\n",
            "3. **Tokenization**: Text was split into individual words for further analysis.\n",
            "4. **Special Character Removal**: Non-alphanumeric characters were removed to clean the text.\n",
            "5. **N-grams**: Bigrams were generated to analyze word pairs and understand context.\n",
            "\n",
            "Preprocessing helps standardize the data, reduce dimensionality, and make it suitable for NLP tasks like sentiment analysis or topic modeling.\n",
            "\n"
          ]
        }
      ],
      "source": [
        "# Summary of preprocessing\n",
        "summary = \"\"\"\n",
        "1. **Stopword Removal**: Common words like \"the\", \"is\", \"and\" were removed to reduce noise in the data.\n",
        "2. **Lemmatization**: Words were reduced to their base form, e.g., \"running\" to \"run\".\n",
        "3. **Tokenization**: Text was split into individual words for further analysis.\n",
        "4. **Special Character Removal**: Non-alphanumeric characters were removed to clean the text.\n",
        "5. **N-grams**: Bigrams were generated to analyze word pairs and understand context.\n",
        "\n",
        "Preprocessing helps standardize the data, reduce dimensionality, and make it suitable for NLP tasks like sentiment analysis or topic modeling.\n",
        "\"\"\"\n",
        "\n",
        "print(\"\\nSummary of Preprocessing Steps:\")\n",
        "print(summary)"
      ]
    },
    {
      "cell_type": "markdown",
      "source": [
        "# Task 3: POS Tagging and Named Entity Recognition (NER)"
      ],
      "metadata": {
        "id": "nIBpNC6rTmB4"
      },
      "id": "nIBpNC6rTmB4"
    },
    {
      "cell_type": "code",
      "execution_count": 14,
      "id": "a897414e-659a-4091-9b43-ebad19bcbddf",
      "metadata": {
        "id": "a897414e-659a-4091-9b43-ebad19bcbddf"
      },
      "outputs": [],
      "source": [
        "import spacy\n",
        "from nltk import pos_tag\n",
        "from nltk.tokenize import word_tokenize"
      ]
    },
    {
      "cell_type": "code",
      "source": [
        "# Download required NLTK resources\n",
        "import nltk\n",
        "nltk.download('averaged_perceptron_tagger_eng')\n",
        "nltk.download('punkt')\n",
        "nltk.download('maxent_ne_chunker')\n",
        "nltk.download('words')\n"
      ],
      "metadata": {
        "colab": {
          "base_uri": "https://localhost:8080/"
        },
        "id": "DLqzgZQ_QbmD",
        "outputId": "b51bb2a1-ca0a-46fc-ca65-a83783bf020b"
      },
      "id": "DLqzgZQ_QbmD",
      "execution_count": 15,
      "outputs": [
        {
          "output_type": "stream",
          "name": "stderr",
          "text": [
            "[nltk_data] Downloading package averaged_perceptron_tagger_eng to\n",
            "[nltk_data]     /root/nltk_data...\n",
            "[nltk_data]   Unzipping taggers/averaged_perceptron_tagger_eng.zip.\n",
            "[nltk_data] Downloading package punkt to /root/nltk_data...\n",
            "[nltk_data]   Package punkt is already up-to-date!\n",
            "[nltk_data] Downloading package maxent_ne_chunker to\n",
            "[nltk_data]     /root/nltk_data...\n",
            "[nltk_data]   Unzipping chunkers/maxent_ne_chunker.zip.\n",
            "[nltk_data] Downloading package words to /root/nltk_data...\n",
            "[nltk_data]   Unzipping corpora/words.zip.\n"
          ]
        },
        {
          "output_type": "execute_result",
          "data": {
            "text/plain": [
              "True"
            ]
          },
          "metadata": {},
          "execution_count": 15
        }
      ]
    },
    {
      "cell_type": "code",
      "source": [
        "# Load the preprocessed dataset\n",
        "dataset = pd.read_csv(\"preprocessed_twitter_data.csv\")"
      ],
      "metadata": {
        "id": "_TgXj_NNTFSj"
      },
      "id": "_TgXj_NNTFSj",
      "execution_count": 16,
      "outputs": []
    },
    {
      "cell_type": "code",
      "execution_count": 17,
      "id": "21a094af-fca1-4fb2-a914-dfc254bba929",
      "metadata": {
        "id": "21a094af-fca1-4fb2-a914-dfc254bba929"
      },
      "outputs": [],
      "source": [
        "# Load the English NLP model for spaCy\n",
        "nlp = spacy.load(\"en_core_web_sm\")"
      ]
    },
    {
      "cell_type": "code",
      "execution_count": 18,
      "id": "dc4d2377-7e6c-4264-a234-5b414e98d4c1",
      "metadata": {
        "id": "dc4d2377-7e6c-4264-a234-5b414e98d4c1"
      },
      "outputs": [],
      "source": [
        "# Function for POS tagging using NLTK\n",
        "def pos_tagging(text):\n",
        "    tokens = word_tokenize(text)\n",
        "    return pos_tag(tokens)"
      ]
    },
    {
      "cell_type": "code",
      "execution_count": 19,
      "id": "10baedd3-ea1b-466d-ab57-00722a8611e6",
      "metadata": {
        "id": "10baedd3-ea1b-466d-ab57-00722a8611e6"
      },
      "outputs": [],
      "source": [
        "# Function for Named Entity Recognition using spaCy\n",
        "def named_entity_recognition(text):\n",
        "    doc = nlp(text)\n",
        "    return [(ent.text, ent.label_) for ent in doc.ents]\n",
        "\n"
      ]
    },
    {
      "cell_type": "code",
      "execution_count": 20,
      "id": "83ff213a-b393-4780-b8e9-1b11fb5eca3a",
      "metadata": {
        "id": "83ff213a-b393-4780-b8e9-1b11fb5eca3a"
      },
      "outputs": [],
      "source": [
        "# Apply POS tagging and NER to the processed text\n",
        "dataset['pos_tags'] = dataset['processed_text_str'].apply(pos_tagging)\n",
        "dataset['ner'] = dataset['processed_text_str'].apply(named_entity_recognition)\n"
      ]
    },
    {
      "cell_type": "code",
      "execution_count": 21,
      "id": "a92e591e-8729-4830-bbcf-f3bacf2d00bb",
      "metadata": {
        "id": "a92e591e-8729-4830-bbcf-f3bacf2d00bb",
        "outputId": "4fdb2898-5978-423c-a047-253d92c198b9",
        "colab": {
          "base_uri": "https://localhost:8080/"
        }
      },
      "outputs": [
        {
          "output_type": "stream",
          "name": "stdout",
          "text": [
            "\n",
            "POS Tagging Results:\n",
            "                                  processed_text_str  \\\n",
            "0  artificial intelligence driving tech world for...   \n",
            "1    cybersecurity remains top priority organization   \n",
            "2  cloud computing ensures scalability business g...   \n",
            "3               quantum algorithm next big leap tech   \n",
            "4    iot revolutionizing smart home device worldwide   \n",
            "\n",
            "                                            pos_tags  \n",
            "0  [(artificial, JJ), (intelligence, NN), (drivin...  \n",
            "1  [(cybersecurity, NN), (remains, VBZ), (top, JJ...  \n",
            "2  [(cloud, NN), (computing, VBG), (ensures, NNS)...  \n",
            "3  [(quantum, NN), (algorithm, NN), (next, JJ), (...  \n",
            "4  [(iot, NN), (revolutionizing, VBG), (smart, JJ...  \n"
          ]
        }
      ],
      "source": [
        "# Display the results\n",
        "print(\"\\nPOS Tagging Results:\")\n",
        "print(dataset[['processed_text_str', 'pos_tags']].head())\n"
      ]
    },
    {
      "cell_type": "code",
      "execution_count": 22,
      "id": "c3012348-e836-45c5-90ee-35f6802167bb",
      "metadata": {
        "id": "c3012348-e836-45c5-90ee-35f6802167bb",
        "outputId": "b2c8c37b-dd46-4218-ec04-459a792234b2",
        "colab": {
          "base_uri": "https://localhost:8080/"
        }
      },
      "outputs": [
        {
          "output_type": "stream",
          "name": "stdout",
          "text": [
            "\n",
            "Named Entity Recognition Results:\n",
            "                                  processed_text_str  \\\n",
            "0  artificial intelligence driving tech world for...   \n",
            "1    cybersecurity remains top priority organization   \n",
            "2  cloud computing ensures scalability business g...   \n",
            "3               quantum algorithm next big leap tech   \n",
            "4    iot revolutionizing smart home device worldwide   \n",
            "\n",
            "                                       ner  \n",
            "0                                       []  \n",
            "1                   [(cybersecurity, ORG)]  \n",
            "2              [(cloud computing, PERSON)]  \n",
            "3                         [(quantum, ORG)]  \n",
            "4  [(iot revolutionizing smart home, ORG)]  \n"
          ]
        }
      ],
      "source": [
        "print(\"\\nNamed Entity Recognition Results:\")\n",
        "print(dataset[['processed_text_str', 'ner']].head())"
      ]
    },
    {
      "cell_type": "code",
      "execution_count": 23,
      "id": "0cbd33e1-845c-40e6-afa2-a573b524dfa7",
      "metadata": {
        "id": "0cbd33e1-845c-40e6-afa2-a573b524dfa7",
        "outputId": "0068478f-04f2-49c2-de8b-375ee1c1675b",
        "colab": {
          "base_uri": "https://localhost:8080/"
        }
      },
      "outputs": [
        {
          "output_type": "stream",
          "name": "stdout",
          "text": [
            "\n",
            "1. **Stopword Removal**: Common words like \"the\", \"is\", \"and\" were removed to reduce noise in the data.\n",
            "2. **Lemmatization**: Words were reduced to their base form, e.g., \"running\" to \"run\".\n",
            "3. **Tokenization**: Text was split into individual words for further analysis.\n",
            "4. **Special Character Removal**: Non-alphanumeric characters were removed to clean the text.\n",
            "5. **N-grams**: Bigrams were generated to analyze word pairs and understand context.\n",
            "\n",
            "Preprocessing helps standardize the data, reduce dimensionality, and make it suitable for NLP tasks like sentiment analysis or topic modeling.\n",
            "\n"
          ]
        }
      ],
      "source": [
        "print(summary)"
      ]
    },
    {
      "cell_type": "markdown",
      "source": [
        "# Task 4: Sentiment Analysis"
      ],
      "metadata": {
        "id": "nWR7MNZvTst1"
      },
      "id": "nWR7MNZvTst1"
    },
    {
      "cell_type": "code",
      "execution_count": 24,
      "id": "301dfbc0-3ec6-4231-88ab-ae8699b077d2",
      "metadata": {
        "id": "301dfbc0-3ec6-4231-88ab-ae8699b077d2",
        "outputId": "b02f7097-cb83-4a13-cf8a-3387616bea80",
        "colab": {
          "base_uri": "https://localhost:8080/"
        }
      },
      "outputs": [
        {
          "output_type": "stream",
          "name": "stderr",
          "text": [
            "[nltk_data] Downloading package vader_lexicon to /root/nltk_data...\n"
          ]
        },
        {
          "output_type": "execute_result",
          "data": {
            "text/plain": [
              "True"
            ]
          },
          "metadata": {},
          "execution_count": 24
        }
      ],
      "source": [
        "nltk.download('vader_lexicon')"
      ]
    },
    {
      "cell_type": "code",
      "execution_count": 25,
      "id": "83a7c2e2-c190-4ef8-9035-5d1f2f324967",
      "metadata": {
        "id": "83a7c2e2-c190-4ef8-9035-5d1f2f324967"
      },
      "outputs": [],
      "source": [
        "import pandas as pd\n",
        "from nltk.sentiment import SentimentIntensityAnalyzer\n"
      ]
    },
    {
      "cell_type": "code",
      "execution_count": 26,
      "id": "37d84a95-db05-4ceb-917a-4d051be38ee8",
      "metadata": {
        "id": "37d84a95-db05-4ceb-917a-4d051be38ee8"
      },
      "outputs": [],
      "source": [
        "# Load the preprocessed dataset\n",
        "dataset = pd.read_csv(\"preprocessed_twitter_data.csv\")"
      ]
    },
    {
      "cell_type": "code",
      "execution_count": 27,
      "id": "59e79610-e61c-47c6-b8a7-1a1bbf41d549",
      "metadata": {
        "id": "59e79610-e61c-47c6-b8a7-1a1bbf41d549"
      },
      "outputs": [],
      "source": [
        "# Initialize the VADER sentiment intensity analyzer\n",
        "sia = SentimentIntensityAnalyzer()\n"
      ]
    },
    {
      "cell_type": "code",
      "execution_count": 28,
      "id": "47640a9e-aa1d-47d1-ae30-9c3618dc91c2",
      "metadata": {
        "id": "47640a9e-aa1d-47d1-ae30-9c3618dc91c2"
      },
      "outputs": [],
      "source": [
        "# Function to classify sentiment\n",
        "def classify_sentiment(text):\n",
        "    score = sia.polarity_scores(text)\n",
        "    compound_score = score['compound']\n",
        "\n",
        "    if compound_score >= 0.05:\n",
        "        return 'positive'\n",
        "    elif compound_score <= -0.05:\n",
        "        return 'negative'\n",
        "    else:\n",
        "        return 'neutral'"
      ]
    },
    {
      "cell_type": "code",
      "execution_count": 29,
      "id": "0332723f-8bc1-407f-bf40-c67454be955c",
      "metadata": {
        "id": "0332723f-8bc1-407f-bf40-c67454be955c"
      },
      "outputs": [],
      "source": [
        "# Apply sentiment classification to the processed text\n",
        "dataset['sentiment'] = dataset['processed_text_str'].apply(classify_sentiment)\n"
      ]
    },
    {
      "cell_type": "code",
      "execution_count": 30,
      "id": "ca6f3abc-f6fc-4721-9d23-c9cb805229cb",
      "metadata": {
        "id": "ca6f3abc-f6fc-4721-9d23-c9cb805229cb"
      },
      "outputs": [],
      "source": [
        "# Calculate sentiment distribution\n",
        "sentiment_distribution = dataset['sentiment'].value_counts(normalize=True) * 100\n"
      ]
    },
    {
      "cell_type": "code",
      "execution_count": 31,
      "id": "28615fe4-bbd8-45c7-b041-5a607cf6537e",
      "metadata": {
        "id": "28615fe4-bbd8-45c7-b041-5a607cf6537e",
        "outputId": "6e07256b-fdde-4599-9a72-d260fc81519c",
        "colab": {
          "base_uri": "https://localhost:8080/"
        }
      },
      "outputs": [
        {
          "output_type": "stream",
          "name": "stdout",
          "text": [
            "\n",
            "Sentiment Distribution (%):\n",
            "sentiment\n",
            "positive    64.0\n",
            "neutral     36.0\n",
            "Name: proportion, dtype: float64\n"
          ]
        }
      ],
      "source": [
        "# Display the sentiment distribution\n",
        "print(\"\\nSentiment Distribution (%):\")\n",
        "print(sentiment_distribution)\n"
      ]
    },
    {
      "cell_type": "code",
      "execution_count": 32,
      "id": "fcd05c6f-7eb5-4033-b2ad-533829f024f0",
      "metadata": {
        "id": "fcd05c6f-7eb5-4033-b2ad-533829f024f0"
      },
      "outputs": [],
      "source": [
        "# Save the dataset with sentiment analysis results\n",
        "dataset.to_csv(\"twitter_data_with_sentiment.csv\", index=False)\n"
      ]
    },
    {
      "cell_type": "code",
      "execution_count": 33,
      "id": "206f1165-51bd-4a39-a88b-43e9c62b389d",
      "metadata": {
        "id": "206f1165-51bd-4a39-a88b-43e9c62b389d"
      },
      "outputs": [],
      "source": [
        "# Analysis of sentiment results\n",
        "positive_count = dataset['sentiment'].value_counts().get('positive', 0)\n",
        "negative_count = dataset['sentiment'].value_counts().get('negative', 0)\n",
        "neutral_count = dataset['sentiment'].value_counts().get('neutral', 0)\n"
      ]
    },
    {
      "cell_type": "code",
      "execution_count": 34,
      "id": "6d2afeac-4551-4538-9604-cd01f0e8e5e9",
      "metadata": {
        "id": "6d2afeac-4551-4538-9604-cd01f0e8e5e9"
      },
      "outputs": [],
      "source": [
        "total_count = len(dataset)"
      ]
    },
    {
      "cell_type": "code",
      "execution_count": 35,
      "id": "198fdab0-a9c8-4acd-be22-10c79c0eac58",
      "metadata": {
        "id": "198fdab0-a9c8-4acd-be22-10c79c0eac58",
        "outputId": "fdb80a52-a322-49a7-fe54-efcb7abd72c7",
        "colab": {
          "base_uri": "https://localhost:8080/"
        }
      },
      "outputs": [
        {
          "output_type": "stream",
          "name": "stdout",
          "text": [
            "\n",
            "Sentiment Analysis Results:\n",
            "- Total Tweets Analyzed: 200\n",
            "- Positive Sentiment: 128 (64.00%)\n",
            "- Negative Sentiment: 0 (0.00%)\n",
            "- Neutral Sentiment: 72 (36.00%)\n",
            "\n"
          ]
        }
      ],
      "source": [
        "analysis_summary = f\"\"\"\n",
        "Sentiment Analysis Results:\n",
        "- Total Tweets Analyzed: {total_count}\n",
        "- Positive Sentiment: {positive_count} ({(positive_count / total_count) * 100:.2f}%)\n",
        "- Negative Sentiment: {negative_count} ({(negative_count / total_count) * 100:.2f}%)\n",
        "- Neutral Sentiment: {neutral_count} ({(neutral_count / total_count) * 100:.2f}%)\n",
        "\"\"\"\n",
        "\n",
        "print(analysis_summary)"
      ]
    },
    {
      "cell_type": "markdown",
      "source": [
        "#Task 5: Topic Modeling"
      ],
      "metadata": {
        "id": "RN-s0cOVT_T8"
      },
      "id": "RN-s0cOVT_T8"
    },
    {
      "cell_type": "code",
      "execution_count": 36,
      "id": "f9f762cd-f3e3-4c42-82c3-4800a7ae1f10",
      "metadata": {
        "id": "f9f762cd-f3e3-4c42-82c3-4800a7ae1f10",
        "outputId": "fcd7ba6b-c5ea-454d-c710-49c0c625c29f",
        "colab": {
          "base_uri": "https://localhost:8080/"
        }
      },
      "outputs": [
        {
          "output_type": "execute_result",
          "data": {
            "text/plain": [
              "True"
            ]
          },
          "metadata": {},
          "execution_count": 36
        }
      ],
      "source": [
        "import pandas as pd\n",
        "from gensim.corpora.dictionary import Dictionary\n",
        "from gensim.models.ldamodel import LdaModel\n",
        "from nltk.tokenize import word_tokenize\n",
        "import nltk\n",
        "nltk.download('punkt', quiet=True)"
      ]
    },
    {
      "cell_type": "code",
      "execution_count": 37,
      "id": "a96d3798-081a-49e3-8f0b-ce9f46872a22",
      "metadata": {
        "id": "a96d3798-081a-49e3-8f0b-ce9f46872a22"
      },
      "outputs": [],
      "source": [
        "# Load the preprocessed dataset\n",
        "dataset = pd.read_csv(\"preprocessed_twitter_data.csv\")"
      ]
    },
    {
      "cell_type": "code",
      "execution_count": 38,
      "id": "03e987cf-addf-4797-8dbf-d784aca33ce1",
      "metadata": {
        "id": "03e987cf-addf-4797-8dbf-d784aca33ce1"
      },
      "outputs": [],
      "source": [
        "# Tokenize the processed text\n",
        "tokenized_text = dataset[\"processed_text_str\"].apply(word_tokenize).tolist()"
      ]
    },
    {
      "cell_type": "code",
      "execution_count": 39,
      "id": "833ed4e9-efea-4270-9856-b170c511a3b5",
      "metadata": {
        "id": "833ed4e9-efea-4270-9856-b170c511a3b5"
      },
      "outputs": [],
      "source": [
        "# Create a dictionary representation of the documents\n",
        "dictionary = Dictionary(tokenized_text)"
      ]
    },
    {
      "cell_type": "code",
      "execution_count": 40,
      "id": "e6166caa-7047-46b4-b9eb-f85c3e8512b8",
      "metadata": {
        "id": "e6166caa-7047-46b4-b9eb-f85c3e8512b8"
      },
      "outputs": [],
      "source": [
        "# Filter extremes to remove very common and very rare words\n",
        "dictionary.filter_extremes(no_below=5, no_above=0.5)\n"
      ]
    },
    {
      "cell_type": "code",
      "execution_count": 41,
      "id": "9917c838-405a-42a8-8938-f4a6c947c2e0",
      "metadata": {
        "id": "9917c838-405a-42a8-8938-f4a6c947c2e0"
      },
      "outputs": [],
      "source": [
        "# Convert the text data to a bag-of-words representation\n",
        "corpus = [dictionary.doc2bow(text) for text in tokenized_text]"
      ]
    },
    {
      "cell_type": "code",
      "execution_count": 42,
      "id": "ac2fab96-2501-4e31-8b92-22951790e117",
      "metadata": {
        "id": "ac2fab96-2501-4e31-8b92-22951790e117"
      },
      "outputs": [],
      "source": [
        "# Set the number of topics\n",
        "num_topics = 5  # You can adjust this based on your dataset"
      ]
    },
    {
      "cell_type": "code",
      "execution_count": 43,
      "id": "ea49f6e0-c480-45c2-8b74-3bb8c096c581",
      "metadata": {
        "id": "ea49f6e0-c480-45c2-8b74-3bb8c096c581"
      },
      "outputs": [],
      "source": [
        "# Build the LDA model\n",
        "lda_model = LdaModel(corpus=corpus, id2word=dictionary, num_topics=num_topics, passes=10, random_state=42)\n"
      ]
    },
    {
      "cell_type": "code",
      "execution_count": 44,
      "id": "05a52c9b-904b-4b18-ba62-2371e3d7f6f5",
      "metadata": {
        "scrolled": true,
        "id": "05a52c9b-904b-4b18-ba62-2371e3d7f6f5",
        "outputId": "3bab90f9-9c28-4a14-9e61-24366960dbd9",
        "colab": {
          "base_uri": "https://localhost:8080/"
        }
      },
      "outputs": [
        {
          "output_type": "stream",
          "name": "stdout",
          "text": [
            "\n",
            "Discovered Topics:\n",
            "Topic 1: 0.106*\"ai\" + 0.106*\"future\" + 0.106*\"technology\" + 0.106*\"advancement\" + 0.088*\"tech\" + 0.088*\"world\" + 0.088*\"artificial\" + 0.088*\"forward\" + 0.088*\"driving\" + 0.088*\"intelligence\"\n",
            "Topic 2: 0.174*\"quantum\" + 0.090*\"excited\" + 0.090*\"breakthrough\" + 0.090*\"new\" + 0.090*\"computing\" + 0.086*\"tech\" + 0.085*\"big\" + 0.085*\"next\" + 0.085*\"algorithm\" + 0.085*\"leap\"\n",
            "Topic 3: 0.105*\"worldwide\" + 0.105*\"smart\" + 0.105*\"device\" + 0.105*\"revolutionizing\" + 0.105*\"iot\" + 0.105*\"home\" + 0.069*\"transformation\" + 0.069*\"crucial\" + 0.069*\"digital\" + 0.069*\"modern\"\n",
            "Topic 4: 0.098*\"remains\" + 0.098*\"organization\" + 0.098*\"cybersecurity\" + 0.098*\"top\" + 0.098*\"priority\" + 0.079*\"reshaping\" + 0.079*\"network\" + 0.079*\"5g\" + 0.079*\"like\" + 0.079*\"connectivity\"\n",
            "Topic 5: 0.095*\"efficiency\" + 0.095*\"workflow\" + 0.095*\"robotics\" + 0.095*\"industrial\" + 0.095*\"creating\" + 0.080*\"computing\" + 0.080*\"scalability\" + 0.080*\"globally\" + 0.080*\"ensures\" + 0.080*\"business\"\n"
          ]
        }
      ],
      "source": [
        "# Display the topics with their associated keywords\n",
        "print(\"\\nDiscovered Topics:\")\n",
        "topics = lda_model.print_topics(num_words=10)\n",
        "for i, topic in topics:\n",
        "    print(f\"Topic {i + 1}: {topic}\")"
      ]
    },
    {
      "cell_type": "code",
      "execution_count": 45,
      "id": "e3723ba7-4fad-494f-8c3f-51ddeed017fb",
      "metadata": {
        "id": "e3723ba7-4fad-494f-8c3f-51ddeed017fb"
      },
      "outputs": [],
      "source": [
        "# Save the topic keywords\n",
        "topics_keywords = {f\"Topic {i+1}\": topic.split(\" + \") for i, topic in topics}\n",
        "dataset['topics'] = [lda_model.get_document_topics(doc) for doc in corpus]"
      ]
    },
    {
      "cell_type": "code",
      "execution_count": 46,
      "id": "8a26a055-f4c3-4c16-b6de-e1eb107adbb4",
      "metadata": {
        "id": "8a26a055-f4c3-4c16-b6de-e1eb107adbb4"
      },
      "outputs": [],
      "source": [
        "# Save the topics to a file\n",
        "with open(\"discovered_topics.txt\", \"w\") as file:\n",
        "    for i, topic in topics:\n",
        "        file.write(f\"Topic {i + 1}: {topic}\\n\")"
      ]
    },
    {
      "cell_type": "code",
      "execution_count": 47,
      "id": "512035b4-126b-4e94-981f-93932c02b36b",
      "metadata": {
        "id": "512035b4-126b-4e94-981f-93932c02b36b",
        "outputId": "99f1d42a-3ea0-47da-d4ab-7699a18ce8f8",
        "colab": {
          "base_uri": "https://localhost:8080/"
        }
      },
      "outputs": [
        {
          "output_type": "stream",
          "name": "stdout",
          "text": [
            "\n",
            "pyLDAvis is not installed. To visualize topics, install it using 'pip install pyldavis'.\n"
          ]
        }
      ],
      "source": [
        "# Visualization using pyLDAvis (optional, for better understanding)\n",
        "try:\n",
        "    import pyLDAvis.gensim_models as gensimvis\n",
        "    import pyLDAvis\n",
        "    pyLDAvis.enable_notebook()\n",
        "    vis = gensimvis.prepare(lda_model, corpus, dictionary)\n",
        "    pyLDAvis.save_html(vis, \"lda_visualization.html\")\n",
        "    print(\"\\nInteractive visualization saved as 'lda_visualization.html'.\")\n",
        "except ImportError:\n",
        "    print(\"\\npyLDAvis is not installed. To visualize topics, install it using 'pip install pyldavis'.\")\n"
      ]
    },
    {
      "cell_type": "code",
      "execution_count": 48,
      "id": "cdff6f35-96fa-47eb-89ed-2641a13be70d",
      "metadata": {
        "id": "cdff6f35-96fa-47eb-89ed-2641a13be70d"
      },
      "outputs": [],
      "source": [
        "# Save the dataset with topics\n",
        "dataset.to_csv(\"twitter_data_with_topics.csv\", index=False)"
      ]
    },
    {
      "cell_type": "markdown",
      "source": [
        "# Task 06 - Code for Stylometric Analysis, PCA, and Clustering"
      ],
      "metadata": {
        "id": "_c9UEt12UEmA"
      },
      "id": "_c9UEt12UEmA"
    },
    {
      "cell_type": "code",
      "execution_count": 49,
      "id": "4b816eba-1fe1-4a8e-b081-4f540b7e7977",
      "metadata": {
        "id": "4b816eba-1fe1-4a8e-b081-4f540b7e7977"
      },
      "outputs": [],
      "source": [
        "import pandas as pd\n",
        "import matplotlib.pyplot as plt\n",
        "from sklearn.feature_extraction.text import CountVectorizer\n",
        "from sklearn.decomposition import PCA\n",
        "from sklearn.cluster import KMeans\n",
        "from scipy.cluster.hierarchy import dendrogram, linkage\n",
        "from sklearn.preprocessing import StandardScaler"
      ]
    },
    {
      "cell_type": "code",
      "execution_count": 50,
      "id": "de41ee60-12d4-4032-8dae-ee43b3ce48d0",
      "metadata": {
        "id": "de41ee60-12d4-4032-8dae-ee43b3ce48d0"
      },
      "outputs": [],
      "source": [
        "# Load the preprocessed dataset\n",
        "dataset = pd.read_csv(\"preprocessed_twitter_data.csv\")\n"
      ]
    },
    {
      "cell_type": "code",
      "execution_count": 51,
      "id": "8ffd1ec7-a28d-4792-9e02-9a21aa8bbeac",
      "metadata": {
        "id": "8ffd1ec7-a28d-4792-9e02-9a21aa8bbeac"
      },
      "outputs": [],
      "source": [
        "# Convert text into feature vectors using CountVectorizer\n",
        "vectorizer = CountVectorizer(max_features=1000)  # Use top 1000 features for simplicity\n",
        "text_vectors = vectorizer.fit_transform(dataset[\"processed_text_str\"]).toarray()"
      ]
    },
    {
      "cell_type": "code",
      "execution_count": 52,
      "id": "da8a0b10-16a0-4466-9ea6-f150f4535679",
      "metadata": {
        "id": "da8a0b10-16a0-4466-9ea6-f150f4535679"
      },
      "outputs": [],
      "source": [
        "# Standardize the data\n",
        "scaler = StandardScaler()\n",
        "scaled_vectors = scaler.fit_transform(text_vectors)\n"
      ]
    },
    {
      "cell_type": "code",
      "execution_count": 53,
      "id": "e1cb07e2-d9fc-4ee0-a570-d6d4457f8911",
      "metadata": {
        "id": "e1cb07e2-d9fc-4ee0-a570-d6d4457f8911"
      },
      "outputs": [],
      "source": [
        "# Step 1: PCA for Dimensionality Reduction\n",
        "pca = PCA(n_components=2)\n",
        "pca_results = pca.fit_transform(scaled_vectors)"
      ]
    },
    {
      "cell_type": "code",
      "execution_count": 54,
      "id": "5a945031-4942-4086-8714-19b236ebeefb",
      "metadata": {
        "scrolled": true,
        "id": "5a945031-4942-4086-8714-19b236ebeefb",
        "outputId": "423df402-2241-40d5-c032-7b8078c27e0d",
        "colab": {
          "base_uri": "https://localhost:8080/",
          "height": 564
        }
      },
      "outputs": [
        {
          "output_type": "display_data",
          "data": {
            "text/plain": [
              "<Figure size 1000x600 with 1 Axes>"
            ],
            "image/png": "[encoded data removed]"
          },
          "metadata": {}
        }
      ],
      "source": [
        "# Plot the PCA results\n",
        "plt.figure(figsize=(10, 6))\n",
        "plt.scatter(pca_results[:, 0], pca_results[:, 1], alpha=0.5)\n",
        "plt.title(\"PCA Scatter Plot for Text Data\")\n",
        "plt.xlabel(\"Principal Component 1\")\n",
        "plt.ylabel(\"Principal Component 2\")\n",
        "plt.savefig(\"pca_scatterplot.png\")\n",
        "plt.show()"
      ]
    },
    {
      "cell_type": "code",
      "execution_count": 55,
      "id": "f1ece9fa-8e8d-40ca-a3c4-61087dfa2d6d",
      "metadata": {
        "id": "f1ece9fa-8e8d-40ca-a3c4-61087dfa2d6d"
      },
      "outputs": [],
      "source": [
        "# Step 2: K-Means Clustering\n",
        "num_clusters = 3  # Define the number of clusters\n",
        "kmeans = KMeans(n_clusters=num_clusters, random_state=42)\n",
        "clusters = kmeans.fit_predict(scaled_vectors)"
      ]
    },
    {
      "cell_type": "code",
      "execution_count": 56,
      "id": "0b0e8ba0-ec99-43cd-acb6-e4db3104774e",
      "metadata": {
        "id": "0b0e8ba0-ec99-43cd-acb6-e4db3104774e"
      },
      "outputs": [],
      "source": [
        "# Add the clusters to the dataset\n",
        "dataset[\"cluster\"] = clusters"
      ]
    },
    {
      "cell_type": "code",
      "execution_count": 57,
      "id": "d0606e19-6ac3-40fa-be3c-580719adfa6a",
      "metadata": {
        "id": "d0606e19-6ac3-40fa-be3c-580719adfa6a",
        "outputId": "129d3a09-3a66-46f3-e9b8-2b1fb4357c18",
        "colab": {
          "base_uri": "https://localhost:8080/",
          "height": 564
        }
      },
      "outputs": [
        {
          "output_type": "display_data",
          "data": {
            "text/plain": [
              "<Figure size 1000x600 with 1 Axes>"
            ],
            "image/png": "[encoded data removed]"
          },
          "metadata": {}
        }
      ],
      "source": [
        "# Plot the clusters on the PCA scatter plot\n",
        "plt.figure(figsize=(10, 6))\n",
        "for cluster in range(num_clusters):\n",
        "    cluster_points = pca_results[clusters == cluster]\n",
        "    plt.scatter(cluster_points[:, 0], cluster_points[:, 1], label=f\"Cluster {cluster + 1}\")\n",
        "\n",
        "plt.title(\"PCA Scatter Plot with K-Means Clustering\")\n",
        "plt.xlabel(\"Principal Component 1\")\n",
        "plt.ylabel(\"Principal Component 2\")\n",
        "plt.legend()\n",
        "plt.savefig(\"pca_clusters.png\")\n",
        "plt.show()"
      ]
    },
    {
      "cell_type": "code",
      "execution_count": 58,
      "id": "8a32e16f-cd81-4132-a331-ad877e6e45b9",
      "metadata": {
        "id": "8a32e16f-cd81-4132-a331-ad877e6e45b9"
      },
      "outputs": [],
      "source": [
        "# Step 3: Dendrogram for Hierarchical Clustering\n",
        "linkage_matrix = linkage(scaled_vectors, method='ward')\n"
      ]
    },
    {
      "cell_type": "code",
      "execution_count": 59,
      "id": "ef52dd5f-73ca-4543-9b67-73b391b11303",
      "metadata": {
        "id": "ef52dd5f-73ca-4543-9b67-73b391b11303",
        "outputId": "09fbb975-1ca6-402e-ca75-aed51a750688",
        "colab": {
          "base_uri": "https://localhost:8080/",
          "height": 721
        }
      },
      "outputs": [
        {
          "output_type": "display_data",
          "data": {
            "text/plain": [
              "<Figure size 1200x800 with 1 Axes>"
            ],
            "image/png": "[encoded data removed]"
          },
          "metadata": {}
        }
      ],
      "source": [
        "plt.figure(figsize=(12, 8))\n",
        "dendrogram(linkage_matrix, truncate_mode=\"level\", p=10)\n",
        "plt.title(\"Hierarchical Clustering Dendrogram\")\n",
        "plt.xlabel(\"Text Samples\")\n",
        "plt.ylabel(\"Distance\")\n",
        "plt.savefig(\"dendrogram.png\")\n",
        "plt.show()"
      ]
    },
    {
      "cell_type": "code",
      "execution_count": 60,
      "id": "7399025f-882f-448d-9f9a-b458b98f7efb",
      "metadata": {
        "id": "7399025f-882f-448d-9f9a-b458b98f7efb"
      },
      "outputs": [],
      "source": [
        "# Save the dataset with clusters\n",
        "dataset.to_csv(\"twitter_data_with_clusters.csv\", index=False)\n"
      ]
    },
    {
      "cell_type": "code",
      "execution_count": 61,
      "id": "04c60110-54a1-410c-8cb2-4824da192173",
      "metadata": {
        "id": "04c60110-54a1-410c-8cb2-4824da192173",
        "outputId": "82319b89-0242-4b20-e2d2-f358a5826781",
        "colab": {
          "base_uri": "https://localhost:8080/"
        }
      },
      "outputs": [
        {
          "output_type": "stream",
          "name": "stdout",
          "text": [
            "Stylometric Analysis Summary:\n",
            "Explained Variance by PCA Components: [0.13578504 0.13023861]\n",
            "Cluster Distribution:\n",
            "cluster\n",
            "0    161\n",
            "1     20\n",
            "2     19\n",
            "Name: count, dtype: int64\n"
          ]
        }
      ],
      "source": [
        "# Summary of Stylometric Analysis\n",
        "print(\"Stylometric Analysis Summary:\")\n",
        "print(f\"Explained Variance by PCA Components: {pca.explained_variance_ratio_}\")\n",
        "print(f\"Cluster Distribution:\\n{dataset['cluster'].value_counts()}\")"
      ]
    },
    {
      "cell_type": "markdown",
      "source": [
        "# Task 7: Document Clustering with Word2Vec or Doc2Vec"
      ],
      "metadata": {
        "id": "pJ2XSX9zUTk7"
      },
      "id": "pJ2XSX9zUTk7"
    },
    {
      "cell_type": "code",
      "execution_count": 62,
      "id": "ecb1db75-3f14-4b52-ae76-3071a8f62e11",
      "metadata": {
        "id": "ecb1db75-3f14-4b52-ae76-3071a8f62e11"
      },
      "outputs": [],
      "source": [
        "import pandas as pd\n",
        "from gensim.models.doc2vec import Doc2Vec, TaggedDocument\n",
        "from sklearn.cluster import KMeans\n",
        "from sklearn.decomposition import PCA\n",
        "import matplotlib.pyplot as plt"
      ]
    },
    {
      "cell_type": "code",
      "execution_count": 63,
      "id": "6edbfc0c-a701-4fcc-ab3d-a9bad8eac143",
      "metadata": {
        "id": "6edbfc0c-a701-4fcc-ab3d-a9bad8eac143"
      },
      "outputs": [],
      "source": [
        "# Load the preprocessed dataset\n",
        "dataset = pd.read_csv(\"preprocessed_twitter_data.csv\")\n"
      ]
    },
    {
      "cell_type": "code",
      "execution_count": 64,
      "id": "99903dac-785e-4fb1-8626-c20747ee3261",
      "metadata": {
        "id": "99903dac-785e-4fb1-8626-c20747ee3261"
      },
      "outputs": [],
      "source": [
        "# Step 1: Prepare Data for Doc2Vec\n",
        "# Convert processed text to a list of TaggedDocument\n",
        "documents = [TaggedDocument(words=text.split(), tags=[str(i)]) for i, text in enumerate(dataset[\"processed_text_str\"])]\n"
      ]
    },
    {
      "cell_type": "code",
      "execution_count": 65,
      "id": "056e9b92-f575-4472-b27f-23511830aa16",
      "metadata": {
        "id": "056e9b92-f575-4472-b27f-23511830aa16"
      },
      "outputs": [],
      "source": [
        "# Step 2: Train Doc2Vec Model\n",
        "doc2vec_model = Doc2Vec(vector_size=100, min_count=2, epochs=20, seed=42)\n",
        "doc2vec_model.build_vocab(documents)\n",
        "doc2vec_model.train(documents, total_examples=doc2vec_model.corpus_count, epochs=doc2vec_model.epochs)\n"
      ]
    },
    {
      "cell_type": "code",
      "execution_count": 66,
      "id": "fec68c7c-9240-486d-b4da-5ec145d72feb",
      "metadata": {
        "id": "fec68c7c-9240-486d-b4da-5ec145d72feb"
      },
      "outputs": [],
      "source": [
        "# Step 3: Generate Document Vectors\n",
        "document_vectors = [doc2vec_model.dv[str(i)] for i in range(len(documents))]\n"
      ]
    },
    {
      "cell_type": "code",
      "execution_count": 67,
      "id": "36766449-2875-4807-b833-70b90cc1c346",
      "metadata": {
        "id": "36766449-2875-4807-b833-70b90cc1c346"
      },
      "outputs": [],
      "source": [
        "# Step 4: Clustering with K-Means\n",
        "num_clusters = 3  # You can adjust this based on your analysis\n",
        "kmeans = KMeans(n_clusters=num_clusters, random_state=42)\n",
        "clusters = kmeans.fit_predict(document_vectors)\n"
      ]
    },
    {
      "cell_type": "code",
      "execution_count": 68,
      "id": "7b3d01a5-6491-453b-b756-6ef46f8abe23",
      "metadata": {
        "id": "7b3d01a5-6491-453b-b756-6ef46f8abe23"
      },
      "outputs": [],
      "source": [
        "# Add clusters to the dataset\n",
        "dataset[\"doc2vec_cluster\"] = clusters"
      ]
    },
    {
      "cell_type": "code",
      "execution_count": 69,
      "id": "de7df5a3-723f-494d-9dea-5be56fb48937",
      "metadata": {
        "id": "de7df5a3-723f-494d-9dea-5be56fb48937"
      },
      "outputs": [],
      "source": [
        "# Step 5: PCA for Visualization\n",
        "pca = PCA(n_components=2)\n",
        "pca_results = pca.fit_transform(document_vectors)\n"
      ]
    },
    {
      "cell_type": "code",
      "execution_count": 70,
      "id": "85a699c6-f098-4035-b015-eb05c7369997",
      "metadata": {
        "id": "85a699c6-f098-4035-b015-eb05c7369997",
        "outputId": "9502b60d-a346-4a49-cab9-0742502127a0",
        "colab": {
          "base_uri": "https://localhost:8080/",
          "height": 564
        }
      },
      "outputs": [
        {
          "output_type": "display_data",
          "data": {
            "text/plain": [
              "<Figure size 1000x600 with 1 Axes>"
            ],
            "image/png": "[encoded data removed]"
          },
          "metadata": {}
        }
      ],
      "source": [
        "# Plot PCA with Clustering\n",
        "plt.figure(figsize=(10, 6))\n",
        "for cluster in range(num_clusters):\n",
        "    cluster_points = pca_results[clusters == cluster]\n",
        "    plt.scatter(cluster_points[:, 0], cluster_points[:, 1], label=f\"Cluster {cluster + 1}\")\n",
        "\n",
        "plt.title(\"Doc2Vec Clustering with PCA Visualization\")\n",
        "plt.xlabel(\"Principal Component 1\")\n",
        "plt.ylabel(\"Principal Component 2\")\n",
        "plt.legend()\n",
        "plt.savefig(\"doc2vec_clusters.png\")\n",
        "plt.show()\n"
      ]
    },
    {
      "cell_type": "code",
      "execution_count": 71,
      "id": "ade7f1c4-fa21-416e-9c60-15cd41d2d31d",
      "metadata": {
        "id": "ade7f1c4-fa21-416e-9c60-15cd41d2d31d",
        "outputId": "3e10a629-9280-4d19-d1ab-8687d89c4a1c",
        "colab": {
          "base_uri": "https://localhost:8080/"
        }
      },
      "outputs": [
        {
          "output_type": "stream",
          "name": "stdout",
          "text": [
            "\n",
            "Doc2Vec Clustering Summary:\n",
            "Cluster Distribution:\n",
            "doc2vec_cluster\n",
            "1    102\n",
            "0     50\n",
            "2     48\n",
            "Name: count, dtype: int64\n"
          ]
        }
      ],
      "source": [
        "# Save the clustered dataset\n",
        "dataset.to_csv(\"twitter_data_with_doc2vec_clusters.csv\", index=False)\n",
        "\n",
        "# Summary of Results\n",
        "print(\"\\nDoc2Vec Clustering Summary:\")\n",
        "print(f\"Cluster Distribution:\\n{dataset['doc2vec_cluster'].value_counts()}\")"
      ]
    },
    {
      "cell_type": "markdown",
      "source": [
        "# Task 8: Dependency Parsing and Advanced Structures"
      ],
      "metadata": {
        "id": "nPN_oBZLUaAN"
      },
      "id": "nPN_oBZLUaAN"
    },
    {
      "cell_type": "code",
      "execution_count": 72,
      "id": "a8196100-baaf-4e76-9338-1b83ae42b34e",
      "metadata": {
        "id": "a8196100-baaf-4e76-9338-1b83ae42b34e"
      },
      "outputs": [],
      "source": [
        "import pandas as pd\n",
        "import spacy\n",
        "from spacy import displacy\n",
        "import random\n"
      ]
    },
    {
      "cell_type": "code",
      "execution_count": 73,
      "id": "ad66e1f6-dedd-4c87-825a-2b0ee3d5795d",
      "metadata": {
        "id": "ad66e1f6-dedd-4c87-825a-2b0ee3d5795d"
      },
      "outputs": [],
      "source": [
        "# Load the small English NLP model\n",
        "nlp = spacy.load(\"en_core_web_sm\")"
      ]
    },
    {
      "cell_type": "code",
      "execution_count": 74,
      "id": "9fad85d7-6ec2-45e7-8996-aa7127b87632",
      "metadata": {
        "id": "9fad85d7-6ec2-45e7-8996-aa7127b87632"
      },
      "outputs": [],
      "source": [
        "# Load a subset of the dataset\n",
        "dataset = pd.read_csv(\"preprocessed_twitter_data.csv\")\n",
        "subset = dataset[\"processed_text_str\"].dropna().sample(5, random_state=42)  # Randomly select 5 sentences for parsing\n"
      ]
    },
    {
      "cell_type": "code",
      "execution_count": 75,
      "id": "a088ce73-1d37-4415-96c8-55a4fe44ce71",
      "metadata": {
        "id": "a088ce73-1d37-4415-96c8-55a4fe44ce71"
      },
      "outputs": [],
      "source": [
        "# Function to parse and visualize dependencies\n",
        "def dependency_parsing(text):\n",
        "    \"\"\"Perform dependency parsing and display syntactic structures.\"\"\"\n",
        "    doc = nlp(text)\n",
        "    # Print tokens and their dependencies\n",
        "    print(f\"\\nParsing Sentence: {text}\")\n",
        "    print(f\"{'Token':<15}{'Dependency':<20}{'Head':<15}{'Children'}\")\n",
        "    for token in doc:\n",
        "        children = [child.text for child in token.children]\n",
        "        print(f\"{token.text:<15}{token.dep_:<20}{token.head.text:<15}{children}\")\n",
        "\n",
        "    # Render the dependency tree\n",
        "    displacy.render(doc, style=\"dep\", jupyter=False)"
      ]
    },
    {
      "cell_type": "code",
      "execution_count": 76,
      "id": "24c8aee5-8085-4822-a921-9cc7b2cdef43",
      "metadata": {
        "id": "24c8aee5-8085-4822-a921-9cc7b2cdef43",
        "outputId": "128bb7d8-9ded-4951-cca7-d5dc193d24b7",
        "colab": {
          "base_uri": "https://localhost:8080/"
        }
      },
      "outputs": [
        {
          "output_type": "stream",
          "name": "stdout",
          "text": [
            "Dependency Parsing on Subset of Sentences:\n",
            "\n",
            "\n",
            "Parsing Sentence: artificial intelligence driving tech world forward\n",
            "Token          Dependency          Head           Children\n",
            "artificial     amod                intelligence   []\n",
            "intelligence   ROOT                intelligence   ['artificial', 'driving']\n",
            "driving        acl                 intelligence   ['world', 'forward']\n",
            "tech           compound            world          []\n",
            "world          dobj                driving        ['tech']\n",
            "forward        advmod              driving        []\n",
            "\n",
            "Parsing Sentence: cybersecurity remains top priority organization\n",
            "Token          Dependency          Head           Children\n",
            "cybersecurity  nsubj               remains        []\n",
            "remains        ROOT                remains        ['cybersecurity', 'organization']\n",
            "top            amod                organization   []\n",
            "priority       compound            organization   []\n",
            "organization   attr                remains        ['top', 'priority']\n",
            "\n",
            "Parsing Sentence: digital transformation crucial modern enterprise\n",
            "Token          Dependency          Head           Children\n",
            "digital        amod                transformation []\n",
            "transformation nmod                enterprise     ['digital']\n",
            "crucial        amod                enterprise     []\n",
            "modern         amod                enterprise     []\n",
            "enterprise     ROOT                enterprise     ['transformation', 'crucial', 'modern']\n",
            "\n",
            "Parsing Sentence: robotics creating efficiency industrial workflow\n",
            "Token          Dependency          Head           Children\n",
            "robotics       ROOT                robotics       ['creating']\n",
            "creating       acl                 robotics       ['efficiency', 'workflow']\n",
            "efficiency     dobj                creating       []\n",
            "industrial     amod                workflow       []\n",
            "workflow       dobj                creating       ['industrial']\n",
            "\n",
            "Parsing Sentence: excited new breakthrough quantum computing\n",
            "Token          Dependency          Head           Children\n",
            "excited        ROOT                excited        ['computing']\n",
            "new            amod                quantum        []\n",
            "breakthrough   compound            quantum        []\n",
            "quantum        compound            computing      ['new', 'breakthrough']\n",
            "computing      dobj                excited        ['quantum']\n"
          ]
        }
      ],
      "source": [
        "# Apply dependency parsing to the subset\n",
        "print(\"Dependency Parsing on Subset of Sentences:\\n\")\n",
        "for sentence in subset:\n",
        "    dependency_parsing(sentence)"
      ]
    },
    {
      "cell_type": "code",
      "execution_count": 77,
      "id": "400982a1-250e-4b44-bc0f-9477a4d47918",
      "metadata": {
        "id": "400982a1-250e-4b44-bc0f-9477a4d47918",
        "outputId": "457850d2-abc4-4947-872f-09b7259656a9",
        "colab": {
          "base_uri": "https://localhost:8080/"
        }
      },
      "outputs": [
        {
          "output_type": "stream",
          "name": "stdout",
          "text": [
            "Dependency tree visualization saved as 'dependency_tree_1.svg'.\n",
            "Dependency tree visualization saved as 'dependency_tree_2.svg'.\n",
            "Dependency tree visualization saved as 'dependency_tree_3.svg'.\n",
            "Dependency tree visualization saved as 'dependency_tree_4.svg'.\n",
            "Dependency tree visualization saved as 'dependency_tree_5.svg'.\n"
          ]
        }
      ],
      "source": [
        "# Save visualizations for the sentences\n",
        "for i, sentence in enumerate(subset):\n",
        "    doc = nlp(sentence)\n",
        "    svg = displacy.render(doc, style=\"dep\", jupyter=False)\n",
        "    output_path = f\"dependency_tree_{i+1}.svg\"\n",
        "    with open(output_path, \"w\", encoding=\"utf-8\") as f:\n",
        "        f.write(svg)\n",
        "    print(f\"Dependency tree visualization saved as '{output_path}'.\")"
      ]
    },
    {
      "cell_type": "code",
      "execution_count": 77,
      "id": "cc77a483-8f9a-4698-8d9d-a6644924ea5c",
      "metadata": {
        "id": "cc77a483-8f9a-4698-8d9d-a6644924ea5c"
      },
      "outputs": [],
      "source": []
    },
    {
      "cell_type": "markdown",
      "source": [
        "# Task 9: Insights and Real-World Application\n",
        "\n",
        "\n",
        "This NLP project analyzed text data to derive meaningful patterns and structured insights through tokenization, sentiment analysis, named entity recognition (NER), and dependency parsing. Key findings included:\n",
        "\n",
        "1. Sentiment Patterns: Identified emotions and trends (positive, neutral,\n",
        "negative).\n",
        "2. NER: Extracted critical entities like names, brands, and locations.\n",
        "3. Dependency Parsing: Revealed sentence structures and relationships (e.g., subject-verb-object).\n",
        "4. Informal Text Analysis: Addressed challenges like slang and abbreviations in social media data through preprocessing.\n",
        "\n",
        "**Real-World Applications**\n",
        "\n",
        "1. Business Analytics: Analyze customer feedback for product improvements and better service delivery.\n",
        "2. Social Media Monitoring: Track brand perception and campaign success through sentiment and entity analysis.\n",
        "3. Healthcare: Detect mental health trends by analyzing forums and social media language patterns.\n",
        "4. Market Research: Study consumer preferences and competitor reviews to refine strategies.\n",
        "5. Academia: Automate tasks like summarizing research and identifying trends in scientific literature.\n",
        "\n",
        "**Impact on Decision-Making**\n",
        "\n",
        "The insights enable organizations to:\n",
        "\n",
        "1. Enhance customer experience and optimize product development.\n",
        "2. Tailor marketing strategies for better engagement.\n",
        "3. Support mental health initiatives with early intervention tools.\n",
        "4. Streamline research efforts, enabling quicker discoveries."
      ],
      "metadata": {
        "id": "pqkEqRPOcprF"
      },
      "id": "pqkEqRPOcprF"
    }
  ],
  "metadata": {
    "kernelspec": {
      "display_name": "Python 3 (ipykernel)",
      "language": "python",
      "name": "python3"
    },
    "language_info": {
      "codemirror_mode": {
        "name": "ipython",
        "version": 3
      },
      "file_extension": ".py",
      "mimetype": "text/x-python",
      "name": "python",
      "nbconvert_exporter": "python",
      "pygments_lexer": "ipython3",
      "version": "3.12.3"
    },
    "colab": {
      "provenance": []
    }
  },
  "nbformat": 4,
  "nbformat_minor": 5
}